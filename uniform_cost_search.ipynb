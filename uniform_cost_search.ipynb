{
  "cells": [
    {
      "cell_type": "code",
      "execution_count": 1,
      "id": "2f30dcff",
      "metadata": {
        "trusted": true
      },
      "outputs": [
        {
          "name": "stdout",
          "output_type": "stream",
          "text": [
            "Minimum cost from 0 to 7 is 10\n",
            "Path: [0, 4, 5, 18, 6, 7]\n"
          ]
        }
      ],
      "source": [
        "import heapq\n",
        "\n",
        "def uniform_cost_search(start, goal, graph, cost):\n",
        "    answer = {node: {'cost': float('inf'), 'path': []} for node in goal}\n",
        "\n",
        "    priority_queue = [(0, start, [start])]\n",
        "    visited = {start: (0, None)}\n",
        "\n",
        "    while priority_queue:\n",
        "        current_cost, current_node, path = heapq.heappop(priority_queue)\n",
        "        if current_node in goal:\n",
        "            if current_cost <= answer[current_node]['cost']:\n",
        "                answer[current_node]['cost'] = current_cost\n",
        "                answer[current_node]['path'] = path\n",
        "        for next_node in graph[current_node]:\n",
        "            if next_node not in visited or total_cost <= visited[next_node][0]:\n",
        "                total_cost = current_cost + cost.get((current_node, next_node), float('inf'))\n",
        "                heapq.heappush(priority_queue, (total_cost, next_node, path + [next_node]))\n",
        "    return answer\n",
        "\n",
        "# main function\n",
        "if __name__ == '__main__':\n",
        "     \n",
        "    # create a graph with no more than 30 nodes\n",
        "    graph, cost = [[] for i in range(30)], {}\n",
        " \n",
        "    # add edges to the graph\n",
        "    graph[0].append(4)\n",
        "    graph[0].append(5)\n",
        "    graph[0].append(16)\n",
        "    graph[2].append(1)\n",
        "    graph[3].append(1)\n",
        "    graph[4].append(2)\n",
        "    graph[4].append(3)\n",
        "    graph[4].append(5)\n",
        "    graph[5].append(8)\n",
        "    graph[5].append(18)\n",
        "    graph[6].append(3)\n",
        "    graph[6].append(7)\n",
        "    graph[8].append(16)\n",
        "    graph[8].append(17)\n",
        "    graph[16].append(17)\n",
        "    graph[18].append(6)\n",
        "    \n",
        " \n",
        "    # add cost to each edge\n",
        "    cost[(0, 4)] = 3\n",
        "    cost[(0, 5)] = 9\n",
        "    cost[(0, 16)] = 1\n",
        "    cost[(2, 1)] = 2\n",
        "    cost[(3, 1)] = 2\n",
        "    cost[(4, 2)] = 1\n",
        "    cost[(4, 3)] = 8\n",
        "    cost[(4, 5)] = 2\n",
        "    cost[(5, 8)] = 3\n",
        "    cost[(5, 18)] = 2\n",
        "    cost[(6, 3)] = 3\n",
        "    cost[(6, 7)] = 2\n",
        "    cost[(8, 16)] = 4\n",
        "    cost[(8, 17)] = 4\n",
        "    cost[(16, 17)] = 15\n",
        "    cost[(18, 6)] = 1\n",
        "    \n",
        "    # set start state \n",
        "    start = 0\n",
        "    \n",
        "    # set goal state, there can be multiple goal states\n",
        "    goal = [7]\n",
        "    \n",
        "    # call uniform_search_cost function to get the minimum cost to reach the goal and the path with minumum cost\n",
        "    # ****** You have to implement this function *****\n",
        "    min_cost_info = uniform_cost_search(start, goal, graph, cost)\n",
        "\n",
        "    for node, info in min_cost_info.items():\n",
        "        print(f'Minimum cost from {start} to {node} is {info[\"cost\"]}')\n",
        "        print(f'Path: {info[\"path\"]}')\n"
      ]
    },
    {
      "cell_type": "code",
      "execution_count": null,
      "id": "0f88b4cf-10f8-43f8-a94e-c8fe5236e3c1",
      "metadata": {
        "trusted": true
      },
      "outputs": [],
      "source": []
    },
    {
      "cell_type": "code",
      "execution_count": null,
      "id": "0bf9ac32-0984-4427-ab0b-e2729c4bb85d",
      "metadata": {
        "trusted": true
      },
      "outputs": [],
      "source": []
    }
  ],
  "metadata": {
    "kernelspec": {
      "display_name": "Python 3",
      "language": "python",
      "name": "python3"
    },
    "language_info": {
      "codemirror_mode": {
        "name": "ipython",
        "version": 3
      },
      "file_extension": ".py",
      "mimetype": "text/x-python",
      "name": "python",
      "nbconvert_exporter": "python",
      "pygments_lexer": "ipython3",
      "version": "3.12.6"
    }
  },
  "nbformat": 4,
  "nbformat_minor": 5
}
